{
  "nbformat": 4,
  "nbformat_minor": 0,
  "metadata": {
    "colab": {
      "name": "Tugas_Day_3(EDA).ipynb",
      "provenance": [],
      "collapsed_sections": []
    },
    "kernelspec": {
      "name": "python3",
      "display_name": "Python 3"
    },
    "language_info": {
      "name": "python"
    }
  },
  "cells": [
    {
      "cell_type": "markdown",
      "metadata": {
        "id": "EqmubOp2whk3"
      },
      "source": [
        "# Soal 1. Pemahaman k-means clustering\n",
        "\n",
        "Jelaskan bagaimana cara kerja k-means clustering!"
      ]
    },
    {
      "cell_type": "markdown",
      "metadata": {
        "id": "gf8y3llqw369"
      },
      "source": [
        "Jawab disini:\n",
        "\n"
      ]
    },
    {
      "cell_type": "markdown",
      "metadata": {
        "id": "oXGsjqHCk7DW"
      },
      "source": [
        "Hal yang paling pertama K-Means lakukan adalah memilih sebuah sampel secara acak untuk dijadikan centroid. Centroid adalah sebuah sampel pada data yang menjadi pusat dari sebuah klaster.\n",
        "---\n",
        "Kedua, hitung jarak antara data point ke centroid. Assign setiap data ke centroid terdekat (hal ini akan membentuk  k clusters).Perhitungan jarak antara titik data ke centroid menggunakan formula euclidean distance. \n",
        "---\n",
        "\n",
        "Ketiga, hitung ulang centroid berdasarkan label-label data sebelumnya. Disini kita buat kembali centroid baru dan menghitung kembali jarak antar data poin ke centroid.\n",
        "---\n",
        "\n",
        "Keempat,assign kembali data poin ke centroid terdekat yang terbaru, dan kita cek apakah ada perubahan dalam cluster atau tidak, jika ada maka kita perlu kembali ke poin 4 mencari posisi centroid yang tidak mengubah cluster. Hal ini kita lakukan perulangan sampai posisi centroid tidak berubah lagi. \n",
        "\n",
        "\n",
        "---\n",
        "\n",
        "\n",
        "\n",
        "\n",
        "\n",
        "\n",
        "\n",
        "\n",
        "\n",
        "\n",
        "\n",
        "\n",
        "\n",
        "\n",
        "---\n",
        "\n"
      ]
    },
    {
      "cell_type": "markdown",
      "metadata": {
        "id": "NoX-A3wElHoq"
      },
      "source": [
        "Download disini [pelanggan.csv](https://drive.google.com/uc?export=download&id=1jX_rLPfcCfzEEgy9xaoALmpqfU2s5TTB)"
      ]
    },
    {
      "cell_type": "code",
      "metadata": {
        "colab": {
          "base_uri": "https://localhost:8080/",
          "height": 204
        },
        "id": "rqRBoUBsw7S0",
        "outputId": "41c4ee2c-ed17-49da-8e5a-b75fbfce3477"
      },
      "source": [
        "import pandas as pd\n",
        "df = pd.read_csv('pelanggan_supermarket.csv')\n",
        "df.head()"
      ],
      "execution_count": 2,
      "outputs": [
        {
          "output_type": "execute_result",
          "data": {
            "text/html": [
              "<div>\n",
              "<style scoped>\n",
              "    .dataframe tbody tr th:only-of-type {\n",
              "        vertical-align: middle;\n",
              "    }\n",
              "\n",
              "    .dataframe tbody tr th {\n",
              "        vertical-align: top;\n",
              "    }\n",
              "\n",
              "    .dataframe thead th {\n",
              "        text-align: right;\n",
              "    }\n",
              "</style>\n",
              "<table border=\"1\" class=\"dataframe\">\n",
              "  <thead>\n",
              "    <tr style=\"text-align: right;\">\n",
              "      <th></th>\n",
              "      <th>ID_pelanggan</th>\n",
              "      <th>Jenis Kelamin</th>\n",
              "      <th>Umur</th>\n",
              "      <th>Pendapatan pertahun (juta)</th>\n",
              "      <th>Skor Belanja (1-100)</th>\n",
              "    </tr>\n",
              "  </thead>\n",
              "  <tbody>\n",
              "    <tr>\n",
              "      <th>0</th>\n",
              "      <td>1</td>\n",
              "      <td>Laki-laki</td>\n",
              "      <td>19.0</td>\n",
              "      <td>15</td>\n",
              "      <td>39.0</td>\n",
              "    </tr>\n",
              "    <tr>\n",
              "      <th>1</th>\n",
              "      <td>2</td>\n",
              "      <td>Laki-laki</td>\n",
              "      <td>21.0</td>\n",
              "      <td>15</td>\n",
              "      <td>81.0</td>\n",
              "    </tr>\n",
              "    <tr>\n",
              "      <th>2</th>\n",
              "      <td>3</td>\n",
              "      <td>Perempuan</td>\n",
              "      <td>20.0</td>\n",
              "      <td>16</td>\n",
              "      <td>6.0</td>\n",
              "    </tr>\n",
              "    <tr>\n",
              "      <th>3</th>\n",
              "      <td>4</td>\n",
              "      <td>Perempuan</td>\n",
              "      <td>23.0</td>\n",
              "      <td>16</td>\n",
              "      <td>77.0</td>\n",
              "    </tr>\n",
              "    <tr>\n",
              "      <th>4</th>\n",
              "      <td>5</td>\n",
              "      <td>Perempuan</td>\n",
              "      <td>31.0</td>\n",
              "      <td>17</td>\n",
              "      <td>40.0</td>\n",
              "    </tr>\n",
              "  </tbody>\n",
              "</table>\n",
              "</div>"
            ],
            "text/plain": [
              "   ID_pelanggan Jenis Kelamin  ...  Pendapatan pertahun (juta)  Skor Belanja (1-100)\n",
              "0             1     Laki-laki  ...                          15                  39.0\n",
              "1             2     Laki-laki  ...                          15                  81.0\n",
              "2             3     Perempuan  ...                          16                   6.0\n",
              "3             4     Perempuan  ...                          16                  77.0\n",
              "4             5     Perempuan  ...                          17                  40.0\n",
              "\n",
              "[5 rows x 5 columns]"
            ]
          },
          "metadata": {},
          "execution_count": 2
        }
      ]
    },
    {
      "cell_type": "code",
      "metadata": {
        "colab": {
          "base_uri": "https://localhost:8080/",
          "height": 419
        },
        "id": "FVowPCU5pJnD",
        "outputId": "5baee55c-2cb7-4e9c-9cac-5530296f0863"
      },
      "source": [
        "# Mengubah kateogrik menjadi numerik menggunakan teknik one-hot encoding\n",
        "labelencoder = LabelEncoder()\n",
        "df['Jenis Kelamin'] = labelencoder.fit_transform(df['Jenis Kelamin'])\n",
        "df"
      ],
      "execution_count": 26,
      "outputs": [
        {
          "output_type": "execute_result",
          "data": {
            "text/html": [
              "<div>\n",
              "<style scoped>\n",
              "    .dataframe tbody tr th:only-of-type {\n",
              "        vertical-align: middle;\n",
              "    }\n",
              "\n",
              "    .dataframe tbody tr th {\n",
              "        vertical-align: top;\n",
              "    }\n",
              "\n",
              "    .dataframe thead th {\n",
              "        text-align: right;\n",
              "    }\n",
              "</style>\n",
              "<table border=\"1\" class=\"dataframe\">\n",
              "  <thead>\n",
              "    <tr style=\"text-align: right;\">\n",
              "      <th></th>\n",
              "      <th>ID_pelanggan</th>\n",
              "      <th>Jenis Kelamin</th>\n",
              "      <th>Umur</th>\n",
              "      <th>Pendapatan pertahun (juta)</th>\n",
              "      <th>Skor Belanja (1-100)</th>\n",
              "    </tr>\n",
              "  </thead>\n",
              "  <tbody>\n",
              "    <tr>\n",
              "      <th>0</th>\n",
              "      <td>1</td>\n",
              "      <td>0</td>\n",
              "      <td>19.0</td>\n",
              "      <td>15</td>\n",
              "      <td>39.0</td>\n",
              "    </tr>\n",
              "    <tr>\n",
              "      <th>1</th>\n",
              "      <td>2</td>\n",
              "      <td>0</td>\n",
              "      <td>21.0</td>\n",
              "      <td>15</td>\n",
              "      <td>81.0</td>\n",
              "    </tr>\n",
              "    <tr>\n",
              "      <th>2</th>\n",
              "      <td>3</td>\n",
              "      <td>1</td>\n",
              "      <td>20.0</td>\n",
              "      <td>16</td>\n",
              "      <td>6.0</td>\n",
              "    </tr>\n",
              "    <tr>\n",
              "      <th>3</th>\n",
              "      <td>4</td>\n",
              "      <td>1</td>\n",
              "      <td>23.0</td>\n",
              "      <td>16</td>\n",
              "      <td>77.0</td>\n",
              "    </tr>\n",
              "    <tr>\n",
              "      <th>4</th>\n",
              "      <td>5</td>\n",
              "      <td>1</td>\n",
              "      <td>31.0</td>\n",
              "      <td>17</td>\n",
              "      <td>40.0</td>\n",
              "    </tr>\n",
              "    <tr>\n",
              "      <th>...</th>\n",
              "      <td>...</td>\n",
              "      <td>...</td>\n",
              "      <td>...</td>\n",
              "      <td>...</td>\n",
              "      <td>...</td>\n",
              "    </tr>\n",
              "    <tr>\n",
              "      <th>245</th>\n",
              "      <td>246</td>\n",
              "      <td>0</td>\n",
              "      <td>59.0</td>\n",
              "      <td>93</td>\n",
              "      <td>14.0</td>\n",
              "    </tr>\n",
              "    <tr>\n",
              "      <th>246</th>\n",
              "      <td>247</td>\n",
              "      <td>0</td>\n",
              "      <td>35.0</td>\n",
              "      <td>93</td>\n",
              "      <td>90.0</td>\n",
              "    </tr>\n",
              "    <tr>\n",
              "      <th>247</th>\n",
              "      <td>248</td>\n",
              "      <td>1</td>\n",
              "      <td>37.0</td>\n",
              "      <td>97</td>\n",
              "      <td>32.0</td>\n",
              "    </tr>\n",
              "    <tr>\n",
              "      <th>248</th>\n",
              "      <td>249</td>\n",
              "      <td>1</td>\n",
              "      <td>32.0</td>\n",
              "      <td>97</td>\n",
              "      <td>86.0</td>\n",
              "    </tr>\n",
              "    <tr>\n",
              "      <th>249</th>\n",
              "      <td>250</td>\n",
              "      <td>0</td>\n",
              "      <td>120.0</td>\n",
              "      <td>98</td>\n",
              "      <td>15.0</td>\n",
              "    </tr>\n",
              "  </tbody>\n",
              "</table>\n",
              "<p>250 rows × 5 columns</p>\n",
              "</div>"
            ],
            "text/plain": [
              "     ID_pelanggan  ...  Skor Belanja (1-100)\n",
              "0               1  ...                  39.0\n",
              "1               2  ...                  81.0\n",
              "2               3  ...                   6.0\n",
              "3               4  ...                  77.0\n",
              "4               5  ...                  40.0\n",
              "..            ...  ...                   ...\n",
              "245           246  ...                  14.0\n",
              "246           247  ...                  90.0\n",
              "247           248  ...                  32.0\n",
              "248           249  ...                  86.0\n",
              "249           250  ...                  15.0\n",
              "\n",
              "[250 rows x 5 columns]"
            ]
          },
          "metadata": {},
          "execution_count": 26
        }
      ]
    },
    {
      "cell_type": "code",
      "metadata": {
        "colab": {
          "base_uri": "https://localhost:8080/"
        },
        "id": "g33uoDe-iTHq",
        "outputId": "f1a305c1-2509-44ae-99b9-1ec44af66034"
      },
      "source": [
        "df.info()"
      ],
      "execution_count": 27,
      "outputs": [
        {
          "output_type": "stream",
          "name": "stdout",
          "text": [
            "<class 'pandas.core.frame.DataFrame'>\n",
            "RangeIndex: 250 entries, 0 to 249\n",
            "Data columns (total 5 columns):\n",
            " #   Column                      Non-Null Count  Dtype  \n",
            "---  ------                      --------------  -----  \n",
            " 0   ID_pelanggan                250 non-null    int64  \n",
            " 1   Jenis Kelamin               250 non-null    int64  \n",
            " 2   Umur                        250 non-null    float64\n",
            " 3   Pendapatan pertahun (juta)  250 non-null    int64  \n",
            " 4   Skor Belanja (1-100)        250 non-null    float64\n",
            "dtypes: float64(2), int64(3)\n",
            "memory usage: 9.9 KB\n"
          ]
        }
      ]
    },
    {
      "cell_type": "code",
      "metadata": {
        "colab": {
          "base_uri": "https://localhost:8080/"
        },
        "id": "O-yoB2h6o3Pj",
        "outputId": "56e2c7dc-0437-4335-b60c-48325368c4b8"
      },
      "source": [
        "df.isnull().sum()"
      ],
      "execution_count": 28,
      "outputs": [
        {
          "output_type": "execute_result",
          "data": {
            "text/plain": [
              "ID_pelanggan                  0\n",
              "Jenis Kelamin                 0\n",
              "Umur                          0\n",
              "Pendapatan pertahun (juta)    0\n",
              "Skor Belanja (1-100)          0\n",
              "dtype: int64"
            ]
          },
          "metadata": {},
          "execution_count": 28
        }
      ]
    },
    {
      "cell_type": "markdown",
      "metadata": {
        "id": "AByM6XoYMkTy"
      },
      "source": [
        "# Soal 2. Clustering data menggunakan k-means clustering\n",
        "\n",
        "Dalam soal ini, kalian diminta untuk melakukan clustering antara data Umur dan Skor Belanja(1-100). Namun, clustering tidak bisa dilakukan karena data memiliki outlier dan missing value. Maka, lakukanlah tahapan-tahapan berikut:\n",
        "\n",
        "*   Handling missing value dengan menggunakan method ='ffill'\n",
        "*   Handling outlier menggunakan metode Interquartile range\n",
        "*   Lakukan rescaling data menggunakan StandardScaler\n",
        "*   Lakukan clustering menggunakan kmeans clustering dengan k =2, dan visualisasikan.. \n",
        "*   Gunakan Elbow method untuk menemukan jumlah k kluster yang tepat\n",
        "*   Gunakan k=3 (rekomendasi methode Elbow) lalu visualisasikan\n",
        "*   Hitung silhoutte Coefficient dari ke dua hasil prediksi klustering tersebut\n",
        "\n",
        "\n",
        "\n",
        "\n",
        "\n",
        "\n",
        "\n",
        "\n"
      ]
    },
    {
      "cell_type": "code",
      "metadata": {
        "colab": {
          "base_uri": "https://localhost:8080/",
          "height": 296
        },
        "id": "goEjGZJJpjcZ",
        "outputId": "24b08214-dfe7-4441-f2d9-114c5852494c"
      },
      "source": [
        "import seaborn as sns\n",
        "\n",
        "sns.boxplot(x='Umur', data=df)"
      ],
      "execution_count": 31,
      "outputs": [
        {
          "output_type": "execute_result",
          "data": {
            "text/plain": [
              "<matplotlib.axes._subplots.AxesSubplot at 0x7f2be69c7850>"
            ]
          },
          "metadata": {},
          "execution_count": 31
        },
        {
          "output_type": "display_data",
          "data": {
            "image/png": "[encoded data removed]",
            "text/plain": [
              "<Figure size 432x288 with 1 Axes>"
            ]
          },
          "metadata": {
            "needs_background": "light"
          }
        }
      ]
    },
    {
      "cell_type": "code",
      "metadata": {
        "colab": {
          "base_uri": "https://localhost:8080/",
          "height": 296
        },
        "id": "0WulbVOgp71O",
        "outputId": "59ca5ec1-2eb9-48cf-da80-8e574f3268cd"
      },
      "source": [
        "sns.boxplot(x='Skor Belanja (1-100)', data=df)"
      ],
      "execution_count": 32,
      "outputs": [
        {
          "output_type": "execute_result",
          "data": {
            "text/plain": [
              "<matplotlib.axes._subplots.AxesSubplot at 0x7f2be6938a50>"
            ]
          },
          "metadata": {},
          "execution_count": 32
        },
        {
          "output_type": "display_data",
          "data": {
            "image/png": "[encoded data removed]",
            "text/plain": [
              "<Figure size 432x288 with 1 Axes>"
            ]
          },
          "metadata": {
            "needs_background": "light"
          }
        }
      ]
    },
    {
      "cell_type": "code",
      "metadata": {
        "id": "l2u2IRm4Ou_9",
        "colab": {
          "base_uri": "https://localhost:8080/"
        },
        "outputId": "1cb59d9a-269f-4718-dfee-96f27a9e7734"
      },
      "source": [
        "#code here\n",
        "# Menghilangkan missing value\n",
        "df = df.fillna(method='ffill')\n",
        "\n",
        "# Menangani outlier dengan interquartile\n",
        "Q1 = df.quantile(0.25)\n",
        "Q3 = df.quantile(0.75)\n",
        "IQR=Q3-Q1\n",
        "newdf=df[~((df<(Q1-1.5*IQR))|(df>(Q3+1.5*IQR))).any(axis=1)]\n",
        " \n",
        "# Cek ukuran dataset setelah kita drop outliers dan mengubah dataset hanya memiliki 2 kolom\n",
        "newdf = newdf[['Umur', 'Skor Belanja (1-100)']]\n",
        "newdf.shape"
      ],
      "execution_count": 48,
      "outputs": [
        {
          "output_type": "execute_result",
          "data": {
            "text/plain": [
              "(246, 2)"
            ]
          },
          "metadata": {},
          "execution_count": 48
        }
      ]
    },
    {
      "cell_type": "code",
      "metadata": {
        "colab": {
          "base_uri": "https://localhost:8080/",
          "height": 296
        },
        "id": "2mqYNIA1p-DS",
        "outputId": "91929c8b-b3ad-4551-8d31-b1240465a3b1"
      },
      "source": [
        "sns.boxplot(x='Skor Belanja (1-100)', data=newdf)"
      ],
      "execution_count": 49,
      "outputs": [
        {
          "output_type": "execute_result",
          "data": {
            "text/plain": [
              "<matplotlib.axes._subplots.AxesSubplot at 0x7f2be6770bd0>"
            ]
          },
          "metadata": {},
          "execution_count": 49
        },
        {
          "output_type": "display_data",
          "data": {
            "image/png": "[encoded data removed]",
            "text/plain": [
              "<Figure size 432x288 with 1 Axes>"
            ]
          },
          "metadata": {
            "needs_background": "light"
          }
        }
      ]
    },
    {
      "cell_type": "code",
      "metadata": {
        "colab": {
          "base_uri": "https://localhost:8080/",
          "height": 296
        },
        "id": "5AXGslEvp90K",
        "outputId": "a4772d34-18f7-4a32-9443-fc6db40e677e"
      },
      "source": [
        "sns.boxplot(x='Umur', data=newdf)"
      ],
      "execution_count": 50,
      "outputs": [
        {
          "output_type": "execute_result",
          "data": {
            "text/plain": [
              "<matplotlib.axes._subplots.AxesSubplot at 0x7f2be66fc950>"
            ]
          },
          "metadata": {},
          "execution_count": 50
        },
        {
          "output_type": "display_data",
          "data": {
            "image/png": "[encoded data removed]",
            "text/plain": [
              "<Figure size 432x288 with 1 Axes>"
            ]
          },
          "metadata": {
            "needs_background": "light"
          }
        }
      ]
    },
    {
      "cell_type": "code",
      "metadata": {
        "id": "-b5ifPFkilKL"
      },
      "source": [
        "from sklearn import preprocessing\n",
        "from sklearn.preprocessing import LabelEncoder\n",
        "\n",
        "# Standarisasi menggunakan StandardScaler\n",
        "scaler = preprocessing.StandardScaler().fit(newdf)\n",
        "newdf = scaler.transform(newdf)"
      ],
      "execution_count": 53,
      "outputs": []
    },
    {
      "cell_type": "code",
      "metadata": {
        "colab": {
          "base_uri": "https://localhost:8080/",
          "height": 497
        },
        "id": "sAWFUozsrgwR",
        "outputId": "2ddc012a-7439-4733-9f0a-947d1b30fece"
      },
      "source": [
        "#Clustering dengan K-Means\n",
        "from sklearn.cluster import KMeans\n",
        "import matplotlib.pyplot as plt\n",
        "\n",
        "kmeans1 = KMeans(n_clusters=2, random_state=42).fit(newdf)\n",
        "labels1 = kmeans1.labels_\n",
        "\n",
        "newdf_std = pd.DataFrame(data = newdf, columns = ['Umur', 'Skor Belanja(1=100)'])\n",
        "newdf_std['label_kmeans1'] = labels1 \n",
        "\n",
        "#Memvisualisasikan Hasil Clustering menggunakan scatterplot\n",
        "plt.figure(figsize=(12,8))\n",
        "plt.scatter(newdf_std.Umur[newdf_std.label_kmeans1 == 0], newdf_std['Skor Belanja(1=100)'][newdf_std.label_kmeans1 == 0], c='blue', s=100, edgecolor='green',linestyle='-')\n",
        "plt.scatter(newdf_std.Umur[newdf_std.label_kmeans1 == 1], newdf_std['Skor Belanja(1=100)'][newdf_std.label_kmeans1 == 1], c='red', s=100, edgecolor='green',linestyle='-')\n",
        "#plt.scatter(newdf_std.Umur[newdf_std.label_kmeans1 == 2], newdf_std['Skor Belanja(1=100)'][newdf_std.label_kmeans1 == 2], c='green', s=100, edgecolor='green',linestyle='-')\n",
        "\n",
        "centers = kmeans1.cluster_centers_\n",
        "plt.scatter(centers[:, 0], centers[:, 1], c='black', s=500);\n",
        "plt.xlabel('Umur')\n",
        "plt.ylabel('Skor Belanja (1-100)')\n",
        "plt.show()\n",
        "\n"
      ],
      "execution_count": 75,
      "outputs": [
        {
          "output_type": "display_data",
          "data": {
            "image/png": "[encoded data removed]",
            "text/plain": [
              "<Figure size 864x576 with 1 Axes>"
            ]
          },
          "metadata": {
            "needs_background": "light"
          }
        }
      ]
    },
    {
      "cell_type": "code",
      "metadata": {
        "colab": {
          "base_uri": "https://localhost:8080/",
          "height": 513
        },
        "id": "mIHPyH9OvizS",
        "outputId": "9df72198-69ce-4f07-fbae-a12f1242671c"
      },
      "source": [
        "#Mencari n cluster yang ideal menggunakan Elbow Method\n",
        "\n",
        "wcss = []\n",
        "for i in range(1, 11):\n",
        "  kmeans = KMeans(n_clusters= i, init='k-means++', random_state = 42 )\n",
        "  kmeans.fit(newdf_std)\n",
        "  wcss.append(kmeans.inertia_)\n",
        "\n",
        "plt.figure(figsize= (12, 8))\n",
        "plt.plot(range(1, 11), wcss)\n",
        "plt.title('The Elbow Method')\n",
        "plt.xlabel('Number of clusters')\n",
        "plt.ylabel('WCSS')\n",
        "plt.show()"
      ],
      "execution_count": 72,
      "outputs": [
        {
          "output_type": "display_data",
          "data": {
            "image/png": "[encoded data removed]",
            "text/plain": [
              "<Figure size 864x576 with 1 Axes>"
            ]
          },
          "metadata": {
            "needs_background": "light"
          }
        }
      ]
    },
    {
      "cell_type": "code",
      "metadata": {
        "colab": {
          "base_uri": "https://localhost:8080/"
        },
        "id": "fvrrD5pYwrkh",
        "outputId": "14f1c45c-1c3f-4736-f85f-2e8995b4a1df"
      },
      "source": [
        "#inisiasi ulang cluster\n",
        "kmeans2 = KMeans(n_clusters=3, random_state=42).fit(newdf)\n",
        "\n",
        "kmeans2.labels_"
      ],
      "execution_count": 73,
      "outputs": [
        {
          "output_type": "execute_result",
          "data": {
            "text/plain": [
              "array([2, 1, 2, 1, 2, 1, 2, 1, 0, 1, 0, 1, 0, 1, 2, 1, 1, 0, 1, 2, 1, 2,\n",
              "       1, 0, 1, 0, 1, 2, 1, 0, 1, 0, 1, 0, 1, 2, 1, 2, 1, 0, 1, 0, 1, 0,\n",
              "       1, 0, 2, 2, 2, 0, 1, 1, 0, 0, 0, 0, 0, 1, 0, 0, 1, 0, 0, 0, 1, 0,\n",
              "       0, 1, 2, 0, 0, 0, 0, 0, 1, 0, 2, 1, 0, 0, 1, 0, 0, 1, 0, 0, 1, 1,\n",
              "       0, 0, 2, 0, 2, 2, 1, 0, 1, 0, 1, 2, 0, 0, 1, 0, 2, 0, 0, 0, 0, 0,\n",
              "       1, 2, 1, 1, 1, 0, 0, 0, 0, 1, 2, 1, 1, 2, 1, 2, 1, 0, 1, 2, 1, 2,\n",
              "       1, 2, 1, 2, 1, 2, 1, 0, 1, 2, 1, 2, 1, 0, 1, 2, 1, 2, 1, 2, 1, 0,\n",
              "       1, 2, 1, 2, 1, 0, 1, 2, 1, 0, 1, 2, 1, 2, 1, 2, 1, 2, 1, 0, 1, 0,\n",
              "       2, 0, 1, 2, 1, 2, 1, 2, 1, 0, 1, 2, 1, 2, 1, 2, 1, 0, 1, 0, 1, 1,\n",
              "       2, 1, 2, 1, 2, 1, 0, 1, 2, 1, 2, 1, 0, 1, 2, 1, 2, 1, 2, 1, 0, 1,\n",
              "       2, 1, 2, 1, 0, 1, 2, 1, 0, 1, 2, 1, 2, 1, 2, 1, 2, 1, 0, 1, 0, 1,\n",
              "       0, 1, 2, 1], dtype=int32)"
            ]
          },
          "metadata": {},
          "execution_count": 73
        }
      ]
    },
    {
      "cell_type": "code",
      "metadata": {
        "colab": {
          "base_uri": "https://localhost:8080/",
          "height": 497
        },
        "id": "4cPArQQ6w2Cr",
        "outputId": "260477e6-dafc-44ae-847b-707307799c41"
      },
      "source": [
        "labels2 = kmeans2.labels_\n",
        "newdf_std['label_kmeans2'] = labels2\n",
        "\n",
        "#Memvisualisasikan hasil clustering\n",
        "plt.figure(figsize=(12,8))\n",
        "plt.scatter(newdf_std.Umur[newdf_std.label_kmeans2 == 0], newdf_std['Skor Belanja(1=100)'][newdf_std.label_kmeans2 == 0], c='red', s=100, edgecolor='green',linestyle='-')\n",
        "plt.scatter(newdf_std.Umur[newdf_std.label_kmeans2 == 1], newdf_std['Skor Belanja(1=100)'][newdf_std.label_kmeans2 == 1], c='blue', s=100, edgecolor='green',linestyle='-')\n",
        "plt.scatter(newdf_std.Umur[newdf_std.label_kmeans2 == 2], newdf_std['Skor Belanja(1=100)'][newdf_std.label_kmeans2 == 2], c='green', s=100, edgecolor='green',linestyle='-')\n",
        "#plt.scatter(newdf_std.Umur[newdf_std.label_kmeans2 == 3], newdf_std['Skor Belanja(1=100)'][newdf_std.label_kmeans2 == 3], c='yellow', s=100, edgecolor='green',linestyle='-')\n",
        "\n",
        "centers = kmeans2.cluster_centers_\n",
        "plt.scatter(centers[:, 0], centers[:, 1], c='black', s=500);\n",
        "plt.xlabel('Umur')\n",
        "plt.ylabel('Skor Belanja (1-100)')\n",
        "plt.show()\n"
      ],
      "execution_count": 77,
      "outputs": [
        {
          "output_type": "display_data",
          "data": {
            "image/png": "[encoded data removed]",
            "text/plain": [
              "<Figure size 864x576 with 1 Axes>"
            ]
          },
          "metadata": {
            "needs_background": "light"
          }
        }
      ]
    },
    {
      "cell_type": "code",
      "metadata": {
        "colab": {
          "base_uri": "https://localhost:8080/"
        },
        "id": "lk-tMeLl33uK",
        "outputId": "8a3b4c4c-e3fe-4d3b-f219-5e0574556608"
      },
      "source": [
        "#Menghitung coeficient silhoutte clustering\n",
        "from sklearn.metrics import silhouette_score\n",
        "\n",
        "print(silhouette_score(newdf_std, labels=labels1))\n",
        "print(silhouette_score(newdf_std, labels=labels2))"
      ],
      "execution_count": 80,
      "outputs": [
        {
          "output_type": "stream",
          "name": "stdout",
          "text": [
            "0.473567609826142\n",
            "0.5969477519359848\n"
          ]
        }
      ]
    },
    {
      "cell_type": "markdown",
      "metadata": {
        "id": "Fo1GIiVdFP4j"
      },
      "source": [
        "Expected output:\n",
        "\n",
        "n_cluster =2\n",
        "\n",
        "![](https://drive.google.com/uc?id=1RHedPeGR48w-cWl7WWkIsHTSB2DRgynO)\n",
        "\n",
        "\n",
        "Elbow graph\n",
        "\n",
        "![](https://drive.google.com/uc?id=1S3_uvQWzJCi8YwSBbpu2imKbUBZ3JdmV)\n",
        "\n",
        "n_cluster =3\n",
        "\n",
        "![](https://drive.google.com/uc?id=1EVMDQgPpC8vYpfxilyiJMRDNIr-JXULd)"
      ]
    },
    {
      "cell_type": "markdown",
      "metadata": {
        "id": "5xpMIoEcm8MM"
      },
      "source": [
        "\n",
        "\n",
        "---\n",
        "\n",
        "\n",
        "\n",
        "---\n",
        "\n",
        "\n",
        "\n",
        "---\n",
        "\n"
      ]
    },
    {
      "cell_type": "markdown",
      "metadata": {
        "id": "pt-NFlqTm-Og"
      },
      "source": [
        "# Soal 3. Analisa Data Hasil Clustering\n",
        "\n",
        "Dari hasil klustering diatas, buatlah sebuah analisa segmentasi pelanggan untuk kemajuan supermarket. "
      ]
    },
    {
      "cell_type": "markdown",
      "metadata": {
        "id": "zNPDstJynpva"
      },
      "source": [
        "Jawab disini:\n",
        "\n",
        "Pada cluster pertama yang berwarna hijau merupakan pelanggan yang umurnya remaja dan skor belanja tidak terlalu banyak.\n",
        "\n",
        "Cluster kedua yang berwarna merah adalah pelanggan yang umurnya sudah dewasa atau bahkan tua tetapi skor belanjanya juga rendah.\n",
        "\n",
        "Cluster ketiga yang berwarna biru merupakan pelanggan yang masih remaja dan memiliki skor belanja yang tinggi."
      ]
    }
  ]
}