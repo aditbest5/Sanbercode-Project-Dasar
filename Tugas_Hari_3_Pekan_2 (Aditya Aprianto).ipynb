{
  "nbformat": 4,
  "nbformat_minor": 0,
  "metadata": {
    "kernelspec": {
      "display_name": "Python 3",
      "language": "python",
      "name": "python3"
    },
    "language_info": {
      "codemirror_mode": {
        "name": "ipython",
        "version": 3
      },
      "file_extension": ".py",
      "mimetype": "text/x-python",
      "name": "python",
      "nbconvert_exporter": "python",
      "pygments_lexer": "ipython3",
      "version": "3.7.7"
    },
    "colab": {
      "name": "Tugas Hari 3 Pekan 2.ipynb",
      "provenance": [],
      "collapsed_sections": []
    }
  },
  "cells": [
    {
      "cell_type": "markdown",
      "metadata": {
        "id": "0kQhZ-5bKrxR"
      },
      "source": [
        "<h2>Soal 1: Pivoting and Melting</h2>\n",
        "\n",
        "Jelaskan itu pivoting dan melting data"
      ]
    },
    {
      "cell_type": "markdown",
      "metadata": {
        "id": "O7OpqeB9KrxX"
      },
      "source": [
        "jawaban:\n",
        "Pivoting merupakan pengubahan bentuk data dengan memutar data yang terletak di baris menjadi di column.\n",
        "\n"
      ]
    },
    {
      "cell_type": "markdown",
      "metadata": {
        "id": "jImnOOlTKrxa"
      },
      "source": [
        "<h2>Soal 2: Data structure Comprehension</h2>\n",
        "\n",
        "Data yang rapi adalah:\n",
        "1. Setiap row menunjukan suatu unit observasi\n",
        "2. Setiap column merupakan suatu unit variable\n",
        "\n",
        "Bagaimana pun, dalam menentukan unit observasi itu tergantung dari kasus yang di hadapi. sebagai seorang data scientist pasti akan menemukan berbagai bentuk struktur data. adalah sangat penting bagi seorang data scientist untuk dapat memahami dan menjelaskan setiap struktur data. Kemampuan memahami hubungan antara index baris, column dan isi data adalah kunci untuk memahami informasi apa yang data sedang beritahukan kepada kita.\n",
        "\n",
        "Di bawah ini terdapat 2 data yang berisi sama, tetapi memiliki struktur yang berbeda. Jelaskan perbedaan dari 2 struktur data tersebut"
      ]
    },
    {
      "cell_type": "markdown",
      "metadata": {
        "id": "HYtZqGxLKrxc"
      },
      "source": [
        "![alt text](https://drive.google.com/uc?id=1h13CDPzIjc-2XyRcyu-p1fet0Ep1gdMA)"
      ]
    },
    {
      "cell_type": "markdown",
      "metadata": {
        "id": "nn4EuLbnKrxf"
      },
      "source": [
        "![alt text](https://drive.google.com/uc?id=12ji98ell5tNcCxeBzl4v8qqBtFMgDSr0)"
      ]
    },
    {
      "cell_type": "markdown",
      "metadata": {
        "id": "_fixNOUAKrxh"
      },
      "source": [
        "Tabel kedua merupakan hasil dari melting data dari tabel pertama dimana variabel mata pelajaran seperti fisika, matematika, dan statistika dijabarkan satu persatu untuk kemudian diamati perubahan nilainya. Sedangkan tabel pertama merupakan pivoting dimana column akan memanjang dan setiap mata pelajaran memiliki columnnya masing-masing."
      ]
    },
    {
      "cell_type": "markdown",
      "metadata": {
        "id": "Vxig2IeYKrxj"
      },
      "source": [
        "<h2>Soal 3: Reshaping Data 1</h2>"
      ]
    },
    {
      "cell_type": "code",
      "metadata": {
        "id": "4Jp7bLWNKrxl",
        "colab": {
          "base_uri": "https://localhost:8080/",
          "height": 420
        },
        "outputId": "73a1368e-a2c1-4201-9a11-54b420753a27"
      },
      "source": [
        "import pandas as pd\n",
        "import random\n",
        "\n",
        "data = {\n",
        "    'Tipe Ujian' : ['UTS1', 'UAS1', 'UTS2', 'UAS2']*3,\n",
        "    'Mata Pelajaran' : ['Fisika']*4 + ['Matematika']*4+['Statistika']*4,\n",
        "    'Rata2 Waktu Belajar (menit)' : [random.choice(range(200, 800)) for i in range(12)],\n",
        "    'Rata2 Nilai Ujian' : [random.choice(range(40, 100)) for i in range(12)] \n",
        "}\n",
        "df = pd.DataFrame(data)\n",
        "df"
      ],
      "execution_count": 2,
      "outputs": [
        {
          "output_type": "execute_result",
          "data": {
            "text/html": [
              "<div>\n",
              "<style scoped>\n",
              "    .dataframe tbody tr th:only-of-type {\n",
              "        vertical-align: middle;\n",
              "    }\n",
              "\n",
              "    .dataframe tbody tr th {\n",
              "        vertical-align: top;\n",
              "    }\n",
              "\n",
              "    .dataframe thead th {\n",
              "        text-align: right;\n",
              "    }\n",
              "</style>\n",
              "<table border=\"1\" class=\"dataframe\">\n",
              "  <thead>\n",
              "    <tr style=\"text-align: right;\">\n",
              "      <th></th>\n",
              "      <th>Tipe Ujian</th>\n",
              "      <th>Mata Pelajaran</th>\n",
              "      <th>Rata2 Waktu Belajar (menit)</th>\n",
              "      <th>Rata2 Nilai Ujian</th>\n",
              "    </tr>\n",
              "  </thead>\n",
              "  <tbody>\n",
              "    <tr>\n",
              "      <th>0</th>\n",
              "      <td>UTS1</td>\n",
              "      <td>Fisika</td>\n",
              "      <td>705</td>\n",
              "      <td>83</td>\n",
              "    </tr>\n",
              "    <tr>\n",
              "      <th>1</th>\n",
              "      <td>UAS1</td>\n",
              "      <td>Fisika</td>\n",
              "      <td>642</td>\n",
              "      <td>58</td>\n",
              "    </tr>\n",
              "    <tr>\n",
              "      <th>2</th>\n",
              "      <td>UTS2</td>\n",
              "      <td>Fisika</td>\n",
              "      <td>300</td>\n",
              "      <td>74</td>\n",
              "    </tr>\n",
              "    <tr>\n",
              "      <th>3</th>\n",
              "      <td>UAS2</td>\n",
              "      <td>Fisika</td>\n",
              "      <td>763</td>\n",
              "      <td>73</td>\n",
              "    </tr>\n",
              "    <tr>\n",
              "      <th>4</th>\n",
              "      <td>UTS1</td>\n",
              "      <td>Matematika</td>\n",
              "      <td>763</td>\n",
              "      <td>45</td>\n",
              "    </tr>\n",
              "    <tr>\n",
              "      <th>5</th>\n",
              "      <td>UAS1</td>\n",
              "      <td>Matematika</td>\n",
              "      <td>712</td>\n",
              "      <td>42</td>\n",
              "    </tr>\n",
              "    <tr>\n",
              "      <th>6</th>\n",
              "      <td>UTS2</td>\n",
              "      <td>Matematika</td>\n",
              "      <td>571</td>\n",
              "      <td>92</td>\n",
              "    </tr>\n",
              "    <tr>\n",
              "      <th>7</th>\n",
              "      <td>UAS2</td>\n",
              "      <td>Matematika</td>\n",
              "      <td>727</td>\n",
              "      <td>59</td>\n",
              "    </tr>\n",
              "    <tr>\n",
              "      <th>8</th>\n",
              "      <td>UTS1</td>\n",
              "      <td>Statistika</td>\n",
              "      <td>768</td>\n",
              "      <td>98</td>\n",
              "    </tr>\n",
              "    <tr>\n",
              "      <th>9</th>\n",
              "      <td>UAS1</td>\n",
              "      <td>Statistika</td>\n",
              "      <td>627</td>\n",
              "      <td>82</td>\n",
              "    </tr>\n",
              "    <tr>\n",
              "      <th>10</th>\n",
              "      <td>UTS2</td>\n",
              "      <td>Statistika</td>\n",
              "      <td>617</td>\n",
              "      <td>68</td>\n",
              "    </tr>\n",
              "    <tr>\n",
              "      <th>11</th>\n",
              "      <td>UAS2</td>\n",
              "      <td>Statistika</td>\n",
              "      <td>232</td>\n",
              "      <td>80</td>\n",
              "    </tr>\n",
              "  </tbody>\n",
              "</table>\n",
              "</div>"
            ],
            "text/plain": [
              "   Tipe Ujian Mata Pelajaran  Rata2 Waktu Belajar (menit)  Rata2 Nilai Ujian\n",
              "0        UTS1         Fisika                          705                 83\n",
              "1        UAS1         Fisika                          642                 58\n",
              "2        UTS2         Fisika                          300                 74\n",
              "3        UAS2         Fisika                          763                 73\n",
              "4        UTS1     Matematika                          763                 45\n",
              "5        UAS1     Matematika                          712                 42\n",
              "6        UTS2     Matematika                          571                 92\n",
              "7        UAS2     Matematika                          727                 59\n",
              "8        UTS1     Statistika                          768                 98\n",
              "9        UAS1     Statistika                          627                 82\n",
              "10       UTS2     Statistika                          617                 68\n",
              "11       UAS2     Statistika                          232                 80"
            ]
          },
          "metadata": {},
          "execution_count": 2
        }
      ]
    },
    {
      "cell_type": "markdown",
      "metadata": {
        "id": "G3yKJFwTKrx8"
      },
      "source": [
        "Perhatikan data di atas, kemudian ubahlah bentuknya agar sesuai yang di harapkan."
      ]
    },
    {
      "cell_type": "code",
      "metadata": {
        "id": "ztFDyKDYKrx-",
        "colab": {
          "base_uri": "https://localhost:8080/",
          "height": 235
        },
        "outputId": "0d07e986-708f-4594-e35f-5824bcfa3f00"
      },
      "source": [
        "# code here\n",
        "pivot_df = pd.pivot(df, index='Tipe Ujian', columns='Mata Pelajaran', values = ['Rata2 Nilai Ujian', 'Rata2 Waktu Belajar (menit)'])\n",
        "pivot_df\n"
      ],
      "execution_count": 16,
      "outputs": [
        {
          "output_type": "execute_result",
          "data": {
            "text/html": [
              "<div>\n",
              "<style scoped>\n",
              "    .dataframe tbody tr th:only-of-type {\n",
              "        vertical-align: middle;\n",
              "    }\n",
              "\n",
              "    .dataframe tbody tr th {\n",
              "        vertical-align: top;\n",
              "    }\n",
              "\n",
              "    .dataframe thead tr th {\n",
              "        text-align: left;\n",
              "    }\n",
              "\n",
              "    .dataframe thead tr:last-of-type th {\n",
              "        text-align: right;\n",
              "    }\n",
              "</style>\n",
              "<table border=\"1\" class=\"dataframe\">\n",
              "  <thead>\n",
              "    <tr>\n",
              "      <th></th>\n",
              "      <th colspan=\"3\" halign=\"left\">Rata2 Nilai Ujian</th>\n",
              "      <th colspan=\"3\" halign=\"left\">Rata2 Waktu Belajar (menit)</th>\n",
              "    </tr>\n",
              "    <tr>\n",
              "      <th>Mata Pelajaran</th>\n",
              "      <th>Fisika</th>\n",
              "      <th>Matematika</th>\n",
              "      <th>Statistika</th>\n",
              "      <th>Fisika</th>\n",
              "      <th>Matematika</th>\n",
              "      <th>Statistika</th>\n",
              "    </tr>\n",
              "    <tr>\n",
              "      <th>Tipe Ujian</th>\n",
              "      <th></th>\n",
              "      <th></th>\n",
              "      <th></th>\n",
              "      <th></th>\n",
              "      <th></th>\n",
              "      <th></th>\n",
              "    </tr>\n",
              "  </thead>\n",
              "  <tbody>\n",
              "    <tr>\n",
              "      <th>UAS1</th>\n",
              "      <td>58</td>\n",
              "      <td>42</td>\n",
              "      <td>82</td>\n",
              "      <td>642</td>\n",
              "      <td>712</td>\n",
              "      <td>627</td>\n",
              "    </tr>\n",
              "    <tr>\n",
              "      <th>UAS2</th>\n",
              "      <td>73</td>\n",
              "      <td>59</td>\n",
              "      <td>80</td>\n",
              "      <td>763</td>\n",
              "      <td>727</td>\n",
              "      <td>232</td>\n",
              "    </tr>\n",
              "    <tr>\n",
              "      <th>UTS1</th>\n",
              "      <td>83</td>\n",
              "      <td>45</td>\n",
              "      <td>98</td>\n",
              "      <td>705</td>\n",
              "      <td>763</td>\n",
              "      <td>768</td>\n",
              "    </tr>\n",
              "    <tr>\n",
              "      <th>UTS2</th>\n",
              "      <td>74</td>\n",
              "      <td>92</td>\n",
              "      <td>68</td>\n",
              "      <td>300</td>\n",
              "      <td>571</td>\n",
              "      <td>617</td>\n",
              "    </tr>\n",
              "  </tbody>\n",
              "</table>\n",
              "</div>"
            ],
            "text/plain": [
              "               Rata2 Nilai Ujian             ... Rata2 Waktu Belajar (menit)           \n",
              "Mata Pelajaran            Fisika Matematika  ...                  Matematika Statistika\n",
              "Tipe Ujian                                   ...                                       \n",
              "UAS1                          58         42  ...                         712        627\n",
              "UAS2                          73         59  ...                         727        232\n",
              "UTS1                          83         45  ...                         763        768\n",
              "UTS2                          74         92  ...                         571        617\n",
              "\n",
              "[4 rows x 6 columns]"
            ]
          },
          "metadata": {},
          "execution_count": 16
        }
      ]
    },
    {
      "cell_type": "markdown",
      "metadata": {
        "id": "xA8ZlQErKryO"
      },
      "source": [
        "Expected Result:\n",
        "\n",
        "![alt text](https://drive.google.com/uc?id=1XufsfqZe7-XZLsb92SpATexy-QRZE0ow)"
      ]
    },
    {
      "cell_type": "markdown",
      "metadata": {
        "id": "pXb8LRDWKryQ"
      },
      "source": [
        "<h2>Soal 4: Reshaping Data 2</h2>"
      ]
    },
    {
      "cell_type": "code",
      "metadata": {
        "id": "LHe2XZyNKryS",
        "colab": {
          "base_uri": "https://localhost:8080/",
          "height": 141
        },
        "outputId": "55d9648c-28ee-484e-d03b-18dc373246e0"
      },
      "source": [
        "import pandas as pd\n",
        "\n",
        "data = {\n",
        "    'Hari' : ['Sabtu', 'Minggu'],\n",
        "    'Kebun Binatang' : [271, 399],\n",
        "    'Dufan' : [501, 700],\n",
        "    'Disney' : [1000, 1001],\n",
        "    'Bali' : [900, 803]\n",
        "}\n",
        "df = pd.DataFrame(data).set_index('Hari')\n",
        "df"
      ],
      "execution_count": 18,
      "outputs": [
        {
          "output_type": "execute_result",
          "data": {
            "text/html": [
              "<div>\n",
              "<style scoped>\n",
              "    .dataframe tbody tr th:only-of-type {\n",
              "        vertical-align: middle;\n",
              "    }\n",
              "\n",
              "    .dataframe tbody tr th {\n",
              "        vertical-align: top;\n",
              "    }\n",
              "\n",
              "    .dataframe thead th {\n",
              "        text-align: right;\n",
              "    }\n",
              "</style>\n",
              "<table border=\"1\" class=\"dataframe\">\n",
              "  <thead>\n",
              "    <tr style=\"text-align: right;\">\n",
              "      <th></th>\n",
              "      <th>Kebun Binatang</th>\n",
              "      <th>Dufan</th>\n",
              "      <th>Disney</th>\n",
              "      <th>Bali</th>\n",
              "    </tr>\n",
              "    <tr>\n",
              "      <th>Hari</th>\n",
              "      <th></th>\n",
              "      <th></th>\n",
              "      <th></th>\n",
              "      <th></th>\n",
              "    </tr>\n",
              "  </thead>\n",
              "  <tbody>\n",
              "    <tr>\n",
              "      <th>Sabtu</th>\n",
              "      <td>271</td>\n",
              "      <td>501</td>\n",
              "      <td>1000</td>\n",
              "      <td>900</td>\n",
              "    </tr>\n",
              "    <tr>\n",
              "      <th>Minggu</th>\n",
              "      <td>399</td>\n",
              "      <td>700</td>\n",
              "      <td>1001</td>\n",
              "      <td>803</td>\n",
              "    </tr>\n",
              "  </tbody>\n",
              "</table>\n",
              "</div>"
            ],
            "text/plain": [
              "        Kebun Binatang  Dufan  Disney  Bali\n",
              "Hari                                       \n",
              "Sabtu              271    501    1000   900\n",
              "Minggu             399    700    1001   803"
            ]
          },
          "metadata": {},
          "execution_count": 18
        }
      ]
    },
    {
      "cell_type": "markdown",
      "metadata": {
        "id": "w87S4Xl_Kryg"
      },
      "source": [
        "diatas adalah data tentang jumlah pengunjung di berbagai tempat hiburan, ubahlah struktur data tersebut sehingga sesuai dengan hasil yang diharapkan."
      ]
    },
    {
      "cell_type": "code",
      "metadata": {
        "colab": {
          "base_uri": "https://localhost:8080/",
          "height": 296
        },
        "id": "g3LuGtyfZhTg",
        "outputId": "813356d5-d2cd-4762-fcbf-7a885d3a7dec"
      },
      "source": [
        "pd.melt(df.reset_index('Hari'), id_vars =[\"Hari\"], var_name ='Tempat Hiburan', value_name='Pengunjung') "
      ],
      "execution_count": 37,
      "outputs": [
        {
          "output_type": "execute_result",
          "data": {
            "text/html": [
              "<div>\n",
              "<style scoped>\n",
              "    .dataframe tbody tr th:only-of-type {\n",
              "        vertical-align: middle;\n",
              "    }\n",
              "\n",
              "    .dataframe tbody tr th {\n",
              "        vertical-align: top;\n",
              "    }\n",
              "\n",
              "    .dataframe thead th {\n",
              "        text-align: right;\n",
              "    }\n",
              "</style>\n",
              "<table border=\"1\" class=\"dataframe\">\n",
              "  <thead>\n",
              "    <tr style=\"text-align: right;\">\n",
              "      <th></th>\n",
              "      <th>Hari</th>\n",
              "      <th>Tempat Hiburan</th>\n",
              "      <th>Pengunjung</th>\n",
              "    </tr>\n",
              "  </thead>\n",
              "  <tbody>\n",
              "    <tr>\n",
              "      <th>0</th>\n",
              "      <td>Sabtu</td>\n",
              "      <td>Kebun Binatang</td>\n",
              "      <td>271</td>\n",
              "    </tr>\n",
              "    <tr>\n",
              "      <th>1</th>\n",
              "      <td>Minggu</td>\n",
              "      <td>Kebun Binatang</td>\n",
              "      <td>399</td>\n",
              "    </tr>\n",
              "    <tr>\n",
              "      <th>2</th>\n",
              "      <td>Sabtu</td>\n",
              "      <td>Dufan</td>\n",
              "      <td>501</td>\n",
              "    </tr>\n",
              "    <tr>\n",
              "      <th>3</th>\n",
              "      <td>Minggu</td>\n",
              "      <td>Dufan</td>\n",
              "      <td>700</td>\n",
              "    </tr>\n",
              "    <tr>\n",
              "      <th>4</th>\n",
              "      <td>Sabtu</td>\n",
              "      <td>Disney</td>\n",
              "      <td>1000</td>\n",
              "    </tr>\n",
              "    <tr>\n",
              "      <th>5</th>\n",
              "      <td>Minggu</td>\n",
              "      <td>Disney</td>\n",
              "      <td>1001</td>\n",
              "    </tr>\n",
              "    <tr>\n",
              "      <th>6</th>\n",
              "      <td>Sabtu</td>\n",
              "      <td>Bali</td>\n",
              "      <td>900</td>\n",
              "    </tr>\n",
              "    <tr>\n",
              "      <th>7</th>\n",
              "      <td>Minggu</td>\n",
              "      <td>Bali</td>\n",
              "      <td>803</td>\n",
              "    </tr>\n",
              "  </tbody>\n",
              "</table>\n",
              "</div>"
            ],
            "text/plain": [
              "     Hari  Tempat Hiburan  Pengunjung\n",
              "0   Sabtu  Kebun Binatang         271\n",
              "1  Minggu  Kebun Binatang         399\n",
              "2   Sabtu           Dufan         501\n",
              "3  Minggu           Dufan         700\n",
              "4   Sabtu          Disney        1000\n",
              "5  Minggu          Disney        1001\n",
              "6   Sabtu            Bali         900\n",
              "7  Minggu            Bali         803"
            ]
          },
          "metadata": {},
          "execution_count": 37
        }
      ]
    },
    {
      "cell_type": "markdown",
      "metadata": {
        "id": "d7_5dDsRKryi"
      },
      "source": [
        "Expected Result:\n",
        "\n",
        "![alt text](https://drive.google.com/uc?id=159mIqcyfeD30EEcyZmmkovORa6cZDLtn)"
      ]
    },
    {
      "cell_type": "markdown",
      "metadata": {
        "id": "GGHgeYkEKryk"
      },
      "source": [
        "<h2>Soal 5: Pivoting and Aggregating</h2>"
      ]
    },
    {
      "cell_type": "code",
      "metadata": {
        "id": "iKMM155KKryn",
        "colab": {
          "base_uri": "https://localhost:8080/",
          "height": 265
        },
        "outputId": "0c788561-dc83-4b67-eee1-257c68be7304"
      },
      "source": [
        "import pandas as pd\n",
        "\n",
        "data = {\n",
        "    'Tipe Ujian' : ['UTS1', 'UAS1']*3,\n",
        "    'Mata Pelajaran' :['Statistika', 'Fisika', 'Fisika', 'Statistika', 'Fisika', 'Statistika'],\n",
        "    'Jumlah Peserta' : [14, 17, 12, 16, 14, 13]\n",
        "}\n",
        "df = pd.DataFrame(data).set_index('Tipe Ujian')\n",
        "df"
      ],
      "execution_count": 119,
      "outputs": [
        {
          "output_type": "execute_result",
          "data": {
            "text/html": [
              "<div>\n",
              "<style scoped>\n",
              "    .dataframe tbody tr th:only-of-type {\n",
              "        vertical-align: middle;\n",
              "    }\n",
              "\n",
              "    .dataframe tbody tr th {\n",
              "        vertical-align: top;\n",
              "    }\n",
              "\n",
              "    .dataframe thead th {\n",
              "        text-align: right;\n",
              "    }\n",
              "</style>\n",
              "<table border=\"1\" class=\"dataframe\">\n",
              "  <thead>\n",
              "    <tr style=\"text-align: right;\">\n",
              "      <th></th>\n",
              "      <th>Mata Pelajaran</th>\n",
              "      <th>Jumlah Peserta</th>\n",
              "    </tr>\n",
              "    <tr>\n",
              "      <th>Tipe Ujian</th>\n",
              "      <th></th>\n",
              "      <th></th>\n",
              "    </tr>\n",
              "  </thead>\n",
              "  <tbody>\n",
              "    <tr>\n",
              "      <th>UTS1</th>\n",
              "      <td>Statistika</td>\n",
              "      <td>14</td>\n",
              "    </tr>\n",
              "    <tr>\n",
              "      <th>UAS1</th>\n",
              "      <td>Fisika</td>\n",
              "      <td>17</td>\n",
              "    </tr>\n",
              "    <tr>\n",
              "      <th>UTS1</th>\n",
              "      <td>Fisika</td>\n",
              "      <td>12</td>\n",
              "    </tr>\n",
              "    <tr>\n",
              "      <th>UAS1</th>\n",
              "      <td>Statistika</td>\n",
              "      <td>16</td>\n",
              "    </tr>\n",
              "    <tr>\n",
              "      <th>UTS1</th>\n",
              "      <td>Fisika</td>\n",
              "      <td>14</td>\n",
              "    </tr>\n",
              "    <tr>\n",
              "      <th>UAS1</th>\n",
              "      <td>Statistika</td>\n",
              "      <td>13</td>\n",
              "    </tr>\n",
              "  </tbody>\n",
              "</table>\n",
              "</div>"
            ],
            "text/plain": [
              "           Mata Pelajaran  Jumlah Peserta\n",
              "Tipe Ujian                               \n",
              "UTS1           Statistika              14\n",
              "UAS1               Fisika              17\n",
              "UTS1               Fisika              12\n",
              "UAS1           Statistika              16\n",
              "UTS1               Fisika              14\n",
              "UAS1           Statistika              13"
            ]
          },
          "metadata": {},
          "execution_count": 119
        }
      ]
    },
    {
      "cell_type": "markdown",
      "metadata": {
        "id": "odnDYRM3Kryz"
      },
      "source": [
        "Perhatikan bahwa data jumlah peserta ujian untuk suatu tipe ujian dan mata pelajaran tertentu ada yang duplikat, ubahlah struktur data tersebut dan lakukan aggregasi berjenis jumlah sehingga sesuai dengan hasil yang di harapkan\n",
        "\n",
        "Expected Result:\n",
        "\n",
        "![alt text](https://drive.google.com/uc?id=1emoz7orYR-0mCHffvAgM8j-V1P6yVHf0)"
      ]
    },
    {
      "cell_type": "code",
      "metadata": {
        "id": "gLKJlUYgKry3",
        "colab": {
          "base_uri": "https://localhost:8080/",
          "height": 141
        },
        "outputId": "558dcf5d-8853-4394-b4b2-ea60cf9df8eb"
      },
      "source": [
        "#Code here\n",
        "pivot_data = pd.pivot_table(df, index='Tipe Ujian', columns='Mata Pelajaran', values = 'Jumlah Peserta', aggfunc=sum)\n",
        "pivot_data"
      ],
      "execution_count": 129,
      "outputs": [
        {
          "output_type": "execute_result",
          "data": {
            "text/html": [
              "<div>\n",
              "<style scoped>\n",
              "    .dataframe tbody tr th:only-of-type {\n",
              "        vertical-align: middle;\n",
              "    }\n",
              "\n",
              "    .dataframe tbody tr th {\n",
              "        vertical-align: top;\n",
              "    }\n",
              "\n",
              "    .dataframe thead th {\n",
              "        text-align: right;\n",
              "    }\n",
              "</style>\n",
              "<table border=\"1\" class=\"dataframe\">\n",
              "  <thead>\n",
              "    <tr style=\"text-align: right;\">\n",
              "      <th>Mata Pelajaran</th>\n",
              "      <th>Fisika</th>\n",
              "      <th>Statistika</th>\n",
              "    </tr>\n",
              "    <tr>\n",
              "      <th>Tipe Ujian</th>\n",
              "      <th></th>\n",
              "      <th></th>\n",
              "    </tr>\n",
              "  </thead>\n",
              "  <tbody>\n",
              "    <tr>\n",
              "      <th>UAS1</th>\n",
              "      <td>17</td>\n",
              "      <td>29</td>\n",
              "    </tr>\n",
              "    <tr>\n",
              "      <th>UTS1</th>\n",
              "      <td>26</td>\n",
              "      <td>14</td>\n",
              "    </tr>\n",
              "  </tbody>\n",
              "</table>\n",
              "</div>"
            ],
            "text/plain": [
              "Mata Pelajaran  Fisika  Statistika\n",
              "Tipe Ujian                        \n",
              "UAS1                17          29\n",
              "UTS1                26          14"
            ]
          },
          "metadata": {},
          "execution_count": 129
        }
      ]
    },
    {
      "cell_type": "code",
      "metadata": {
        "id": "jAIsU40KnuS7"
      },
      "source": [
        ""
      ],
      "execution_count": null,
      "outputs": []
    }
  ]
}